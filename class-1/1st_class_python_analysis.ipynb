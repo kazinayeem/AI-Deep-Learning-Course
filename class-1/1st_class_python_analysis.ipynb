{
  "nbformat": 4,
  "nbformat_minor": 0,
  "metadata": {
    "colab": {
      "provenance": []
    },
    "kernelspec": {
      "name": "python3",
      "display_name": "Python 3"
    },
    "language_info": {
      "name": "python"
    }
  },
  "cells": [
    {
      "cell_type": "markdown",
      "source": [
        "\n",
        "\n",
        "```\n",
        "# Introduction to python =\"Hello, world\"\n",
        "```\n",
        "\n"
      ],
      "metadata": {
        "id": "PZCOCeEKQv8l"
      }
    },
    {
      "cell_type": "code",
      "execution_count": 2,
      "metadata": {
        "colab": {
          "base_uri": "https://localhost:8080/"
        },
        "id": "if0WcwJgQUxc",
        "outputId": "295efc0d-42df-40a9-af70-d0c4e4d1f8a1"
      },
      "outputs": [
        {
          "output_type": "stream",
          "name": "stdout",
          "text": [
            "Hello world\n"
          ]
        }
      ],
      "source": [
        "print(\"Hello world\")"
      ]
    },
    {
      "cell_type": "markdown",
      "source": [
        "Learn Variables and Data Types"
      ],
      "metadata": {
        "id": "RXptuDIlRWW2"
      }
    },
    {
      "cell_type": "code",
      "source": [
        "name = \"kazi nayeem\"\n",
        "age = 21\n",
        "height = 5.6\n",
        "\n",
        "print(name)\n",
        "print(age)\n",
        "print(height)"
      ],
      "metadata": {
        "colab": {
          "base_uri": "https://localhost:8080/"
        },
        "id": "_Rk4CQ8PQlem",
        "outputId": "74fb8240-5a14-4ea3-a84e-7cd32cc4ecef"
      },
      "execution_count": 3,
      "outputs": [
        {
          "output_type": "stream",
          "name": "stdout",
          "text": [
            "kazi nayeem\n",
            "21\n",
            "5.6\n"
          ]
        }
      ]
    },
    {
      "cell_type": "markdown",
      "source": [
        "**Practice Basic Operations**"
      ],
      "metadata": {
        "id": "Bv4G_4G6RniN"
      }
    },
    {
      "cell_type": "code",
      "source": [
        "a = 10\n",
        "b = 3\n",
        "\n",
        "\n",
        "\n",
        "print(a+b)\n",
        "print(a-b)\n",
        "print(a*b)\n",
        "print(a/b)\n",
        "print(a%b)\n",
        "\n",
        "\n",
        "\n",
        "# string\n",
        "\n",
        "first = \"kazi\"\n",
        "last = \"Nayeem\"\n",
        "\n",
        "print(first + \" \" + last)"
      ],
      "metadata": {
        "colab": {
          "base_uri": "https://localhost:8080/"
        },
        "id": "Do67dq-kRo59",
        "outputId": "36c2f1ab-e614-4a9f-e3b1-84fe5c7c3925"
      },
      "execution_count": 6,
      "outputs": [
        {
          "output_type": "stream",
          "name": "stdout",
          "text": [
            "13\n",
            "7\n",
            "30\n",
            "3.3333333333333335\n",
            "1\n",
            "kazi Nayeem\n"
          ]
        }
      ]
    },
    {
      "cell_type": "markdown",
      "source": [
        "## **Understand Conditional Statements**"
      ],
      "metadata": {
        "id": "Wc74PCDUSDis"
      }
    },
    {
      "cell_type": "code",
      "source": [
        "score = 33\n",
        "\n",
        "if score > 90:\n",
        "  print(\"Excellent\")\n",
        "elif score >= 70:\n",
        "  print(\"Good\")\n",
        "elif score >= 33:\n",
        "  print(\"Pass\")\n",
        "elif score < 33:\n",
        "  print(\"Fail\")\n",
        "else:\n",
        "  print(\"Fail\")"
      ],
      "metadata": {
        "colab": {
          "base_uri": "https://localhost:8080/"
        },
        "id": "9L0aSEOcSHR8",
        "outputId": "c2d4caf9-5ae7-4479-8729-06c380af97dc"
      },
      "execution_count": 13,
      "outputs": [
        {
          "output_type": "stream",
          "name": "stdout",
          "text": [
            "Pass\n"
          ]
        }
      ]
    },
    {
      "cell_type": "markdown",
      "source": [
        "**Try Loops**"
      ],
      "metadata": {
        "id": "6016FDCuShEj"
      }
    },
    {
      "cell_type": "code",
      "source": [
        "# for loop\n",
        "\n",
        "for i in range(10):\n",
        "  print(i)\n",
        "\n",
        "# whilte loop\n",
        "count = 0\n",
        "while count < 5:\n",
        "    print(count)\n",
        "    count += 1"
      ],
      "metadata": {
        "colab": {
          "base_uri": "https://localhost:8080/"
        },
        "id": "XECzmZEDSktb",
        "outputId": "908bd052-5e70-400c-d337-08f0455ccf48"
      },
      "execution_count": 19,
      "outputs": [
        {
          "output_type": "stream",
          "name": "stdout",
          "text": [
            "0\n",
            "1\n",
            "2\n",
            "3\n",
            "4\n",
            "5\n",
            "6\n",
            "7\n",
            "8\n",
            "9\n",
            "0\n",
            "1\n",
            "2\n",
            "3\n",
            "4\n"
          ]
        }
      ]
    },
    {
      "cell_type": "markdown",
      "source": [
        "**Work with Lists**"
      ],
      "metadata": {
        "id": "THdgy8CiTCgz"
      }
    },
    {
      "cell_type": "markdown",
      "source": [],
      "metadata": {
        "id": "LSjG-J3MSGkj"
      }
    },
    {
      "cell_type": "code",
      "source": [
        "language = [\"js\" , \"python\" , \"go\" , \"Cpp\"]\n",
        "for i in language:\n",
        "  print(i)\n",
        "\n",
        "# append\n",
        "language.append(\"c\")\n",
        "print(language)"
      ],
      "metadata": {
        "colab": {
          "base_uri": "https://localhost:8080/"
        },
        "id": "q9EHFecQTFuy",
        "outputId": "7fd83bcc-b167-4685-9be4-9901feca7b8c"
      },
      "execution_count": 21,
      "outputs": [
        {
          "output_type": "stream",
          "name": "stdout",
          "text": [
            "js\n",
            "python\n",
            "go\n",
            "Cpp\n",
            "['js', 'python', 'go', 'Cpp', 'c']\n"
          ]
        }
      ]
    }
  ]
}