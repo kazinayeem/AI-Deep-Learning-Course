{
 "cells": [
  {
   "cell_type": "code",
   "id": "initial_id",
   "metadata": {
    "collapsed": true,
    "ExecuteTime": {
     "end_time": "2025-04-14T12:47:51.557427Z",
     "start_time": "2025-04-14T12:47:51.554367Z"
    }
   },
   "source": [
    "def multiply(a, b):\n",
    "    \"\"\"Returns the product of two numbers.\"\"\"\n",
    "    return a * b"
   ],
   "outputs": [],
   "execution_count": 1
  },
  {
   "metadata": {
    "ExecuteTime": {
     "end_time": "2025-04-14T12:48:02.327722Z",
     "start_time": "2025-04-14T12:48:02.324869Z"
    }
   },
   "cell_type": "code",
   "source": [
    "def square_list(numbers):\n",
    "    \"\"\"Returns a new list with each element squared.\"\"\"\n",
    "    return [x ** 2 for x in numbers]"
   ],
   "id": "a946a6c2642c6558",
   "outputs": [],
   "execution_count": 2
  },
  {
   "metadata": {
    "ExecuteTime": {
     "end_time": "2025-04-14T12:48:17.591969Z",
     "start_time": "2025-04-14T12:48:17.587864Z"
    }
   },
   "cell_type": "code",
   "source": [
    "import random\n",
    "\n",
    "# Generate and print a random number between 1 and 100\n",
    "random_number = random.randint(1, 100)\n",
    "print(f\"Random number between 1 and 100: {random_number}\")"
   ],
   "id": "4c9f611538ceb215",
   "outputs": [
    {
     "name": "stdout",
     "output_type": "stream",
     "text": [
      "Random number between 1 and 100: 61\n"
     ]
    }
   ],
   "execution_count": 23
  },
  {
   "metadata": {},
   "cell_type": "code",
   "outputs": [],
   "execution_count": null,
   "source": "",
   "id": "44ba38e7299e9056"
  }
 ],
 "metadata": {
  "kernelspec": {
   "display_name": "Python 3",
   "language": "python",
   "name": "python3"
  },
  "language_info": {
   "codemirror_mode": {
    "name": "ipython",
    "version": 2
   },
   "file_extension": ".py",
   "mimetype": "text/x-python",
   "name": "python",
   "nbconvert_exporter": "python",
   "pygments_lexer": "ipython2",
   "version": "2.7.6"
  }
 },
 "nbformat": 4,
 "nbformat_minor": 5
}
