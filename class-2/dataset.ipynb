{
 "cells": [
  {
   "cell_type": "code",
   "id": "initial_id",
   "metadata": {
    "collapsed": true,
    "ExecuteTime": {
     "end_time": "2025-04-14T14:49:40.890491Z",
     "start_time": "2025-04-14T14:49:39.405444Z"
    }
   },
   "source": "import pandas as pd",
   "outputs": [],
   "execution_count": 3
  },
  {
   "metadata": {
    "ExecuteTime": {
     "end_time": "2025-04-14T14:49:43.108059Z",
     "start_time": "2025-04-14T14:49:43.097039Z"
    }
   },
   "cell_type": "code",
   "source": "dataset = pd.read_csv('./assets/dataset.csv')",
   "id": "cd22c104af0882fe",
   "outputs": [],
   "execution_count": 4
  },
  {
   "metadata": {
    "ExecuteTime": {
     "end_time": "2025-04-14T14:56:07.280190Z",
     "start_time": "2025-04-14T14:56:07.273173Z"
    }
   },
   "cell_type": "code",
   "source": "print(dataset.head(100))",
   "id": "287b19aafc94dc4e",
   "outputs": [
    {
     "name": "stdout",
     "output_type": "stream",
     "text": [
      "    age  sex  cp  trestbps  chol  fbs  restecg  thalach  exang  oldpeak  \\\n",
      "0    63    1   3       145   233    1        0      150      0      2.3   \n",
      "1    37    1   2       130   250    0        1      187      0      3.5   \n",
      "2    41    0   1       130   204    0        0      172      0      1.4   \n",
      "3    56    1   1       120   236    0        1      178      0      0.8   \n",
      "4    57    0   0       120   354    0        1      163      1      0.6   \n",
      "..  ...  ...  ..       ...   ...  ...      ...      ...    ...      ...   \n",
      "95   53    1   0       142   226    0        0      111      1      0.0   \n",
      "96   62    0   0       140   394    0        0      157      0      1.2   \n",
      "97   52    1   0       108   233    1        1      147      0      0.1   \n",
      "98   43    1   2       130   315    0        1      162      0      1.9   \n",
      "99   53    1   2       130   246    1        0      173      0      0.0   \n",
      "\n",
      "    slope  ca  thal  target  \n",
      "0       0   0     1       1  \n",
      "1       0   0     2       1  \n",
      "2       2   0     2       1  \n",
      "3       2   0     2       1  \n",
      "4       2   0     2       1  \n",
      "..    ...  ..   ...     ...  \n",
      "95      2   0     3       1  \n",
      "96      1   0     2       1  \n",
      "97      2   3     3       1  \n",
      "98      2   1     2       1  \n",
      "99      2   3     2       1  \n",
      "\n",
      "[100 rows x 14 columns]\n"
     ]
    }
   ],
   "execution_count": 19
  },
  {
   "metadata": {
    "ExecuteTime": {
     "end_time": "2025-04-14T14:52:10.239659Z",
     "start_time": "2025-04-14T14:52:10.233574Z"
    }
   },
   "cell_type": "code",
   "source": [
    "print(\"First 5 rows of the dataset:\")\n",
    "print(dataset.head())"
   ],
   "id": "65ab80bd5c3196bc",
   "outputs": [
    {
     "name": "stdout",
     "output_type": "stream",
     "text": [
      "First 5 rows of the dataset:\n",
      "   age  sex  cp  trestbps  chol  fbs  restecg  thalach  exang  oldpeak  slope  \\\n",
      "0   63    1   3       145   233    1        0      150      0      2.3      0   \n",
      "1   37    1   2       130   250    0        1      187      0      3.5      0   \n",
      "2   41    0   1       130   204    0        0      172      0      1.4      2   \n",
      "3   56    1   1       120   236    0        1      178      0      0.8      2   \n",
      "4   57    0   0       120   354    0        1      163      1      0.6      2   \n",
      "\n",
      "   ca  thal  target  \n",
      "0   0     1       1  \n",
      "1   0     2       1  \n",
      "2   0     2       1  \n",
      "3   0     2       1  \n",
      "4   0     2       1  \n"
     ]
    }
   ],
   "execution_count": 10
  },
  {
   "metadata": {
    "ExecuteTime": {
     "end_time": "2025-04-14T14:58:40.003887Z",
     "start_time": "2025-04-14T14:58:39.998887Z"
    }
   },
   "cell_type": "code",
   "source": [
    "print(\"\\n Value in the age of column\")\n",
    "print(dataset[\"age\"])"
   ],
   "id": "4082f7068968bcc9",
   "outputs": [
    {
     "name": "stdout",
     "output_type": "stream",
     "text": [
      "\n",
      " Value in the age of column\n",
      "0      63\n",
      "1      37\n",
      "2      41\n",
      "3      56\n",
      "4      57\n",
      "       ..\n",
      "298    57\n",
      "299    45\n",
      "300    68\n",
      "301    57\n",
      "302    57\n",
      "Name: age, Length: 303, dtype: int64\n"
     ]
    }
   ],
   "execution_count": 25
  },
  {
   "metadata": {
    "ExecuteTime": {
     "end_time": "2025-04-14T14:52:56.395015Z",
     "start_time": "2025-04-14T14:52:56.388461Z"
    }
   },
   "cell_type": "code",
   "source": "print(dataset[[\"age\" , \"ca\"]])",
   "id": "61ff93653798fb55",
   "outputs": [
    {
     "name": "stdout",
     "output_type": "stream",
     "text": [
      "     age  ca\n",
      "0     63   0\n",
      "1     37   0\n",
      "2     41   0\n",
      "3     56   0\n",
      "4     57   0\n",
      "..   ...  ..\n",
      "298   57   0\n",
      "299   45   0\n",
      "300   68   2\n",
      "301   57   1\n",
      "302   57   1\n",
      "\n",
      "[303 rows x 2 columns]\n"
     ]
    }
   ],
   "execution_count": 14
  },
  {
   "metadata": {
    "ExecuteTime": {
     "end_time": "2025-04-14T14:58:54.070007Z",
     "start_time": "2025-04-14T14:58:54.064707Z"
    }
   },
   "cell_type": "code",
   "source": [
    "print(\"First 3 rows of the dataset:\")\n",
    "print(dataset.iloc[0:3])"
   ],
   "id": "66c77c9d1cc423d4",
   "outputs": [
    {
     "name": "stdout",
     "output_type": "stream",
     "text": [
      "First 3 rows of the dataset:\n",
      "   age  sex  cp  trestbps  chol  fbs  restecg  thalach  exang  oldpeak  slope  \\\n",
      "0   63    1   3       145   233    1        0      150      0      2.3      0   \n",
      "1   37    1   2       130   250    0        1      187      0      3.5      0   \n",
      "2   41    0   1       130   204    0        0      172      0      1.4      2   \n",
      "\n",
      "   ca  thal  target  \n",
      "0   0     1       1  \n",
      "1   0     2       1  \n",
      "2   0     2       1  \n"
     ]
    }
   ],
   "execution_count": 26
  },
  {
   "metadata": {
    "ExecuteTime": {
     "end_time": "2025-04-14T14:58:55.641557Z",
     "start_time": "2025-04-14T14:58:55.636423Z"
    }
   },
   "cell_type": "code",
   "source": [
    "print(\"age under 25\")\n",
    "print(dataset[\"age\"] < 30)"
   ],
   "id": "18e24ae8a7d315b5",
   "outputs": [
    {
     "name": "stdout",
     "output_type": "stream",
     "text": [
      "age under 25\n",
      "0      False\n",
      "1      False\n",
      "2      False\n",
      "3      False\n",
      "4      False\n",
      "       ...  \n",
      "298    False\n",
      "299    False\n",
      "300    False\n",
      "301    False\n",
      "302    False\n",
      "Name: age, Length: 303, dtype: bool\n"
     ]
    }
   ],
   "execution_count": 27
  },
  {
   "metadata": {},
   "cell_type": "code",
   "outputs": [],
   "execution_count": null,
   "source": "",
   "id": "a0dd91e0fd220f52"
  }
 ],
 "metadata": {
  "kernelspec": {
   "display_name": "Python 3",
   "language": "python",
   "name": "python3"
  },
  "language_info": {
   "codemirror_mode": {
    "name": "ipython",
    "version": 2
   },
   "file_extension": ".py",
   "mimetype": "text/x-python",
   "name": "python",
   "nbconvert_exporter": "python",
   "pygments_lexer": "ipython2",
   "version": "2.7.6"
  }
 },
 "nbformat": 4,
 "nbformat_minor": 5
}
