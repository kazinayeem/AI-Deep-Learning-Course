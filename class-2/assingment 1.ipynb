{
 "cells": [
  {
   "cell_type": "code",
   "id": "initial_id",
   "metadata": {
    "collapsed": true,
    "ExecuteTime": {
     "end_time": "2025-04-14T12:13:12.758169Z",
     "start_time": "2025-04-14T12:13:11.923727Z"
    }
   },
   "source": "import numpy as np",
   "outputs": [],
   "execution_count": 1
  },
  {
   "metadata": {},
   "cell_type": "markdown",
   "source": "Using if...elif...else",
   "id": "647d27bde462debc"
  },
  {
   "metadata": {
    "ExecuteTime": {
     "end_time": "2025-04-14T12:29:08.718223Z",
     "start_time": "2025-04-14T12:29:02.025926Z"
    }
   },
   "cell_type": "code",
   "source": [
    "num = int(input(\"Enter a number: \"))\n",
    "\n",
    "if num > 0:\n",
    "    print(f\"Positive Number is {num}\")\n",
    "elif num == 0:\n",
    "    print(\"Zero\")\n",
    "else:\n",
    "    print(f\"Negative Number is {num}\")\n",
    "    "
   ],
   "id": "238d649a186bcbe8",
   "outputs": [
    {
     "name": "stdout",
     "output_type": "stream",
     "text": [
      "Positive Number is 2\n"
     ]
    }
   ],
   "execution_count": 9
  },
  {
   "metadata": {},
   "cell_type": "markdown",
   "source": "Uses a for loop to print numbers from 1 to 10.",
   "id": "c9980c14ac7f02b8"
  },
  {
   "metadata": {
    "ExecuteTime": {
     "end_time": "2025-04-14T12:34:50.482557Z",
     "start_time": "2025-04-14T12:34:50.478458Z"
    }
   },
   "cell_type": "code",
   "source": [
    "for i in range(1,11): \n",
    "    print(i)"
   ],
   "id": "3bb2ee77fb96dfe7",
   "outputs": [
    {
     "name": "stdout",
     "output_type": "stream",
     "text": [
      "1\n",
      "2\n",
      "3\n",
      "4\n",
      "5\n",
      "6\n",
      "7\n",
      "8\n",
      "9\n",
      "10\n"
     ]
    }
   ],
   "execution_count": 37
  },
  {
   "metadata": {},
   "cell_type": "markdown",
   "source": "Uses a while loop to print numbers from 10 down to 1.",
   "id": "b11012af51f991ca"
  },
  {
   "metadata": {
    "ExecuteTime": {
     "end_time": "2025-04-14T12:35:07.912175Z",
     "start_time": "2025-04-14T12:35:07.907801Z"
    }
   },
   "cell_type": "code",
   "source": [
    "i = 10\n",
    "while i >= 1:\n",
    "  print(i)\n",
    "  i -= 1"
   ],
   "id": "16d69b0a24f6454b",
   "outputs": [
    {
     "name": "stdout",
     "output_type": "stream",
     "text": [
      "10\n",
      "9\n",
      "8\n",
      "7\n",
      "6\n",
      "5\n",
      "4\n",
      "3\n",
      "2\n",
      "1\n"
     ]
    }
   ],
   "execution_count": 38
  },
  {
   "metadata": {},
   "cell_type": "markdown",
   "source": "",
   "id": "b031efc21a9f50c2"
  },
  {
   "metadata": {},
   "cell_type": "markdown",
   "source": "",
   "id": "a326b0000333aea8"
  },
  {
   "metadata": {},
   "cell_type": "markdown",
   "source": [
    "Create a list containing 5 different integers. Write a for loop to:\n",
    "Print each element in the list.\n",
    "Print the sum of all elements."
   ],
   "id": "25f24b5ea1cac81"
  },
  {
   "metadata": {
    "ExecuteTime": {
     "end_time": "2025-04-14T12:36:39.595416Z",
     "start_time": "2025-04-14T12:36:39.591149Z"
    }
   },
   "cell_type": "code",
   "source": [
    "number = [1,2,3,4,5]\n",
    "for i in number:\n",
    "    print(i)"
   ],
   "id": "831fce8b52d4a7d3",
   "outputs": [
    {
     "name": "stdout",
     "output_type": "stream",
     "text": [
      "1\n",
      "2\n",
      "3\n",
      "4\n",
      "5\n"
     ]
    }
   ],
   "execution_count": 40
  },
  {
   "metadata": {
    "ExecuteTime": {
     "end_time": "2025-04-14T12:39:06.464346Z",
     "start_time": "2025-04-14T12:39:06.459836Z"
    }
   },
   "cell_type": "code",
   "source": [
    "def sum_number(arr):\n",
    "    total = 0\n",
    "    for i in arr:\n",
    "        total += i\n",
    "    return total\n",
    "        "
   ],
   "id": "5ac5c2149d2540c8",
   "outputs": [],
   "execution_count": 43
  },
  {
   "metadata": {},
   "cell_type": "markdown",
   "source": "",
   "id": "8cde3166221a616b"
  },
  {
   "metadata": {
    "ExecuteTime": {
     "end_time": "2025-04-14T12:40:41.092611Z",
     "start_time": "2025-04-14T12:40:41.089316Z"
    }
   },
   "cell_type": "code",
   "source": [
    "arr = [1,2,3,4,5]\n",
    "print(sum_number(arr))"
   ],
   "id": "d4540ddf747fe5d",
   "outputs": [
    {
     "name": "stdout",
     "output_type": "stream",
     "text": [
      "15\n"
     ]
    }
   ],
   "execution_count": 46
  },
  {
   "metadata": {
    "ExecuteTime": {
     "end_time": "2025-04-14T12:42:00.676432Z",
     "start_time": "2025-04-14T12:42:00.658413Z"
    }
   },
   "cell_type": "code",
   "source": [
    "# use sum \n",
    "arr = [1,2,3,4,5]\n",
    "print(sum_number(arr))\n",
    "print(sum(arr))"
   ],
   "id": "3e9d25a5ea78309e",
   "outputs": [
    {
     "name": "stdout",
     "output_type": "stream",
     "text": [
      "15\n"
     ]
    },
    {
     "ename": "TypeError",
     "evalue": "'int' object is not callable",
     "output_type": "error",
     "traceback": [
      "\u001B[31m---------------------------------------------------------------------------\u001B[39m",
      "\u001B[31mTypeError\u001B[39m                                 Traceback (most recent call last)",
      "\u001B[36mCell\u001B[39m\u001B[36m \u001B[39m\u001B[32mIn[58]\u001B[39m\u001B[32m, line 4\u001B[39m\n\u001B[32m      2\u001B[39m arr = [\u001B[32m1\u001B[39m,\u001B[32m2\u001B[39m,\u001B[32m3\u001B[39m,\u001B[32m4\u001B[39m,\u001B[32m5\u001B[39m]\n\u001B[32m      3\u001B[39m \u001B[38;5;28mprint\u001B[39m(sum_number(arr))\n\u001B[32m----> \u001B[39m\u001B[32m4\u001B[39m \u001B[38;5;28mprint\u001B[39m(\u001B[38;5;28;43msum\u001B[39;49m\u001B[43m(\u001B[49m\u001B[43marr\u001B[49m\u001B[43m)\u001B[49m)\n",
      "\u001B[31mTypeError\u001B[39m: 'int' object is not callable"
     ]
    }
   ],
   "execution_count": 58
  },
  {
   "metadata": {
    "ExecuteTime": {
     "end_time": "2025-04-14T12:49:26.879172Z",
     "start_time": "2025-04-14T12:49:26.874881Z"
    }
   },
   "cell_type": "code",
   "source": [
    "import math\n",
    "\n",
    "arr = [1, 2, 3, 4, 5]\n",
    "print(math.fsum(arr))  # This will work correctly"
   ],
   "id": "ced73ac05455deef",
   "outputs": [
    {
     "name": "stdout",
     "output_type": "stream",
     "text": [
      "15.0\n"
     ]
    }
   ],
   "execution_count": 80
  }
 ],
 "metadata": {
  "kernelspec": {
   "display_name": "Python 3",
   "language": "python",
   "name": "python3"
  },
  "language_info": {
   "codemirror_mode": {
    "name": "ipython",
    "version": 2
   },
   "file_extension": ".py",
   "mimetype": "text/x-python",
   "name": "python",
   "nbconvert_exporter": "python",
   "pygments_lexer": "ipython2",
   "version": "2.7.6"
  }
 },
 "nbformat": 4,
 "nbformat_minor": 5
}
