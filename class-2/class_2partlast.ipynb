{
 "cells": [
  {
   "cell_type": "code",
   "id": "initial_id",
   "metadata": {
    "collapsed": true,
    "ExecuteTime": {
     "end_time": "2025-04-14T07:59:09.251653Z",
     "start_time": "2025-04-14T07:59:09.247648Z"
    }
   },
   "source": "print(\"Hello World\")",
   "outputs": [
    {
     "name": "stdout",
     "output_type": "stream",
     "text": [
      "Hello World\n"
     ]
    }
   ],
   "execution_count": 13
  },
  {
   "metadata": {},
   "cell_type": "markdown",
   "source": "",
   "id": "474f6f0dedfeacea"
  },
  {
   "metadata": {
    "ExecuteTime": {
     "end_time": "2025-04-14T08:01:32.744153Z",
     "start_time": "2025-04-14T08:01:29.182869Z"
    }
   },
   "cell_type": "code",
   "source": [
    "import numpy as np\n",
    "import pandas as pd"
   ],
   "id": "2561d6341bce14ca",
   "outputs": [],
   "execution_count": 16
  },
  {
   "metadata": {
    "ExecuteTime": {
     "end_time": "2025-04-14T08:01:38.550041Z",
     "start_time": "2025-04-14T08:01:38.542523Z"
    }
   },
   "cell_type": "code",
   "source": "np.array([1,2,3,4])",
   "id": "ddeed06d48da47f3",
   "outputs": [
    {
     "data": {
      "text/plain": [
       "array([1, 2, 3, 4])"
      ]
     },
     "execution_count": 17,
     "metadata": {},
     "output_type": "execute_result"
    }
   ],
   "execution_count": 17
  },
  {
   "metadata": {},
   "cell_type": "markdown",
   "source": "",
   "id": "5f368ccabc50118d"
  },
  {
   "metadata": {
    "ExecuteTime": {
     "end_time": "2025-04-14T10:26:12.163846Z",
     "start_time": "2025-04-14T10:26:12.159847Z"
    }
   },
   "cell_type": "code",
   "source": "type(np.array([1,2,3,4]))",
   "id": "a743ced88423ec08",
   "outputs": [
    {
     "data": {
      "text/plain": [
       "numpy.ndarray"
      ]
     },
     "execution_count": 21,
     "metadata": {},
     "output_type": "execute_result"
    }
   ],
   "execution_count": 21
  },
  {
   "metadata": {},
   "cell_type": "code",
   "outputs": [],
   "execution_count": null,
   "source": "",
   "id": "8ad4e000509c2961"
  },
  {
   "metadata": {},
   "cell_type": "markdown",
   "source": "random generate array   ",
   "id": "2dec177644458791"
  },
  {
   "metadata": {
    "ExecuteTime": {
     "end_time": "2025-04-14T10:36:27.668219Z",
     "start_time": "2025-04-14T10:36:27.662599Z"
    }
   },
   "cell_type": "code",
   "source": [
    "array_4 = np.arange(0,27)\n",
    "array_4"
   ],
   "id": "abe23ea7d6376722",
   "outputs": [
    {
     "data": {
      "text/plain": [
       "array([ 0,  1,  2,  3,  4,  5,  6,  7,  8,  9, 10, 11, 12, 13, 14, 15, 16,\n",
       "       17, 18, 19, 20, 21, 22, 23, 24, 25, 26])"
      ]
     },
     "execution_count": 73,
     "metadata": {},
     "output_type": "execute_result"
    }
   ],
   "execution_count": 73
  },
  {
   "metadata": {
    "ExecuteTime": {
     "end_time": "2025-04-14T10:34:59.003092Z",
     "start_time": "2025-04-14T10:34:58.999739Z"
    }
   },
   "cell_type": "code",
   "source": [
    "# array_5 = array_4.reshape(5,5)\n",
    "# array_5"
   ],
   "id": "4f35089226395a73",
   "outputs": [],
   "execution_count": 63
  },
  {
   "metadata": {
    "ExecuteTime": {
     "end_time": "2025-04-14T10:35:23.106867Z",
     "start_time": "2025-04-14T10:35:23.104353Z"
    }
   },
   "cell_type": "code",
   "source": "",
   "id": "195e58621eca201b",
   "outputs": [],
   "execution_count": null
  },
  {
   "metadata": {
    "ExecuteTime": {
     "end_time": "2025-04-14T10:35:13.547719Z",
     "start_time": "2025-04-14T10:35:13.540841Z"
    }
   },
   "cell_type": "code",
   "source": [
    "array_6 = array_4.reshape(3,3,3)\n",
    "array_6"
   ],
   "id": "f8cfb65a6cb2673c",
   "outputs": [
    {
     "data": {
      "text/plain": [
       "array([[[ 0,  1,  2],\n",
       "        [ 3,  4,  5],\n",
       "        [ 6,  7,  8]],\n",
       "\n",
       "       [[ 9, 10, 11],\n",
       "        [12, 13, 14],\n",
       "        [15, 16, 17]],\n",
       "\n",
       "       [[18, 19, 20],\n",
       "        [21, 22, 23],\n",
       "        [24, 25, 26]]])"
      ]
     },
     "execution_count": 66,
     "metadata": {},
     "output_type": "execute_result"
    }
   ],
   "execution_count": 66
  },
  {
   "metadata": {
    "ExecuteTime": {
     "end_time": "2025-04-14T10:36:24.562248Z",
     "start_time": "2025-04-14T10:36:24.557276Z"
    }
   },
   "cell_type": "code",
   "source": [
    "one =np.ones(shape=(3,3,3))\n",
    "print(one)"
   ],
   "id": "ce24eef055aee59",
   "outputs": [
    {
     "name": "stdout",
     "output_type": "stream",
     "text": [
      "[[[1. 1. 1.]\n",
      "  [1. 1. 1.]\n",
      "  [1. 1. 1.]]\n",
      "\n",
      " [[1. 1. 1.]\n",
      "  [1. 1. 1.]\n",
      "  [1. 1. 1.]]\n",
      "\n",
      " [[1. 1. 1.]\n",
      "  [1. 1. 1.]\n",
      "  [1. 1. 1.]]]\n"
     ]
    }
   ],
   "execution_count": 72
  },
  {
   "metadata": {
    "ExecuteTime": {
     "end_time": "2025-04-14T10:38:05.470809Z",
     "start_time": "2025-04-14T10:38:05.466429Z"
    }
   },
   "cell_type": "code",
   "source": [
    "kernel = np.ones(shape=(3,3))\n",
    "test = kernel * (1/49)\n",
    "print(test)"
   ],
   "id": "86009f3248c68ca6",
   "outputs": [
    {
     "name": "stdout",
     "output_type": "stream",
     "text": [
      "[[0.02040816 0.02040816 0.02040816]\n",
      " [0.02040816 0.02040816 0.02040816]\n",
      " [0.02040816 0.02040816 0.02040816]]\n"
     ]
    }
   ],
   "execution_count": 94
  }
 ],
 "metadata": {
  "kernelspec": {
   "display_name": "Python 3",
   "language": "python",
   "name": "python3"
  },
  "language_info": {
   "codemirror_mode": {
    "name": "ipython",
    "version": 2
   },
   "file_extension": ".py",
   "mimetype": "text/x-python",
   "name": "python",
   "nbconvert_exporter": "python",
   "pygments_lexer": "ipython2",
   "version": "2.7.6"
  }
 },
 "nbformat": 4,
 "nbformat_minor": 5
}
